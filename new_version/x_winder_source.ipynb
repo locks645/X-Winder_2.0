{
 "cells": [
  {
   "cell_type": "markdown",
   "metadata": {},
   "source": [
    "## **Section 0 - Important Information**"
   ]
  },
  {
   "cell_type": "markdown",
   "metadata": {},
   "source": [
    "1. Documentation\n",
    "    1. Phidget22 Python Libraries\n",
    "        * Link: https://www.phidgets.com/?view=api\n",
    "        * *Set language to Python*\n",
    "        * *Set API to one of the 3 this file uses: Phidget, DigitalInput, and Stepper*\n",
    "    2. X-Winder User Manual\n",
    "        * Link: https://docs.google.com/document/d/1Ye56XaXfxHr0qRkJA9x0qhNSYwfYPzcqx89bb03exbQ/edit?usp=sharing\n",
    "        * *Must have access to RP's Google Drive to view this document. Reach out to the RP President, Vice President, or your section manager if you don't have access*\n",
    "        * *Currently unfinished*\n",
    "2. Notes \n",
    "    * All of the code in this file is written in Python (runs on version 3.9.11)\n",
    "    * This document contains 3 sections:\n",
    "        1. Basic Initializations\n",
    "        2. Function Initializations\n",
    "        3. X-Winder Control Panel\n",
    "    * For sections 1 & 2, make sure to run all of the cells in order for proper code setup"
   ]
  },
  {
   "cell_type": "markdown",
   "metadata": {},
   "source": [
    "## **Section 1 - Basic Initializations**"
   ]
  },
  {
   "cell_type": "markdown",
   "metadata": {},
   "source": [
    "Step 1.1 - Import Libraries"
   ]
  },
  {
   "cell_type": "code",
   "execution_count": null,
   "metadata": {},
   "outputs": [],
   "source": [
    "from Phidget22.Phidget import *\n",
    "from Phidget22.Devices.DigitalInput import *\n",
    "from Phidget22.Devices.Stepper import *\n",
    "from numpy import pi, degrees, radians, tan, cos, arccos\n",
    "from time import sleep"
   ]
  },
  {
   "cell_type": "markdown",
   "metadata": {},
   "source": [
    "Step 1.2 - Set One-Time User Parameters (User Modifiable)"
   ]
  },
  {
   "cell_type": "code",
   "execution_count": null,
   "metadata": {},
   "outputs": [],
   "source": [
    "##################################################\n",
    "# MOTOR PARAMETERS\n",
    "##################################################\n",
    "\n",
    "mandrel_serial_num  = 615813 \n",
    "carriage_serial_num = 615519 \n",
    "head_serial_num     = 616004\n",
    "motor_timeout       = 5000   # (ms)\n",
    "\n",
    "##################################################\n",
    "# HELICAL-WINDING + HOOP-WINDING PARAMETERS\n",
    "##################################################\n",
    "\n",
    "travel_distance = 22.5 # [desired tube length + 2*diameter of mandrel]? (in) \n",
    "\n",
    "##################################################\n",
    "# HELICAL-WINDING PARAMETERS\n",
    "##################################################\n",
    "\n",
    "helical_fiber_bandwidth = 0.16 # (in)\n",
    "user_alpha              = 55   # suggested winding angle (deg) \n",
    "radius                  = 0.25 # mandrel outer radius (in)\n",
    "L                       = 1.6  # linear speed of the carriage (in/s) \n",
    "offset_fudge_factor     = 1    # offset angle multiplier (%)\n",
    "head_to_90_distance     = 0.25 # distance needed for head to rotate from alpha deg to 90 deg for bird's nest (in)\n",
    "\n",
    "##################################################\n",
    "# HOOP-WINDING PARAMETERS\n",
    "##################################################\n",
    "\n",
    "hoop_fiber_bandwidth = 0.152 # (in)\n",
    "linear_velocity      = 0.2   # velocity of carriage (in/s)"
   ]
  },
  {
   "cell_type": "markdown",
   "metadata": {},
   "source": [
    "Step 1.3 - Connect to X-Winder Motors"
   ]
  },
  {
   "cell_type": "code",
   "execution_count": null,
   "metadata": {},
   "outputs": [],
   "source": [
    "# motor for rotating mandrel   \n",
    "mandrel = Stepper()\n",
    "mandrel.setDeviceSerialNumber(mandrel_serial_num) \n",
    "mandrel.openWaitForAttachment(motor_timeout)\n",
    "mandrel.setAcceleration(40000)\n",
    "mandrel.setRescaleFactor(0.01688) # figure rescale factors out\n",
    "mandrel.setCurrentLimit(4)\n",
    "\n",
    "# motor for moving the carriage back and forth alongside the mandrel\n",
    "carriage = Stepper()\n",
    "carriage.setDeviceSerialNumber(carriage_serial_num) \n",
    "carriage.openWaitForAttachment(motor_timeout)\n",
    "carriage.setAcceleration(20000)\n",
    "carriage.setRescaleFactor(-0.00070)\n",
    "carriage.setCurrentLimit(4)\n",
    "\n",
    "# motor for rotating the head of the carriage to change the fiber angle\n",
    "head = Stepper()\n",
    "head.setDeviceSerialNumber(head_serial_num) \n",
    "head.openWaitForAttachment(motor_timeout)\n",
    "head.setAcceleration(4800)\n",
    "head.setRescaleFactor(0.02641)\n",
    "head.setCurrentLimit(3)"
   ]
  },
  {
   "cell_type": "markdown",
   "metadata": {},
   "source": [
    "Step 1.4 - Run Calculations for Helical-Winding and Hoop-Winding"
   ]
  },
  {
   "cell_type": "code",
   "execution_count": null,
   "metadata": {},
   "outputs": [],
   "source": [
    "##################################################\n",
    "# FUNCTION DEFINITIONS\n",
    "##################################################\n",
    "\n",
    "# helical-winding N to alpha calculation function\n",
    "# based on helix/triangle calculations\n",
    "# inputs:  \n",
    "#   N = number of winding iterations\n",
    "#   B = helical_fiber_thickness (in)\n",
    "#   D = mandrel outer diameter (in)\n",
    "# outputs:\n",
    "#   calc_deg = calculated alpha based on N (deg)\n",
    "def calc_alpha(N, B, D):\n",
    "    alpha_rad = arccos( (N*B)/(pi*D) ) # (rad)\n",
    "    alpha_deg = degrees(alpha_rad)      # (rad --> deg)\n",
    "    return alpha_deg               \n",
    "\n",
    "##################################################\n",
    "# HELICAL-WINDING CALCULATIONS\n",
    "################################################## \n",
    "\n",
    "N = 5        # number of iterations needed to cover mandrel, initial guess?\n",
    "D = 2*radius # mandrel outer diameter (in)\n",
    "B = helical_fiber_bandwidth\n",
    "\n",
    "# while loop parameters\n",
    "# values don't matter, just that prev_alpha_error > alpha_error initially\n",
    "alpha_error      = 0 #    \n",
    "prev_alpha_error = 1 #\n",
    "\n",
    "# find actual value of N and alpha using user_alpha\n",
    "while (alpha_error < prev_alpha_error):\n",
    "    N += 1\n",
    "    alpha_error = abs( calc_alpha(N, B, D) - user_alpha )\n",
    "    prev_alpha_error = abs( calc_alpha(N-1, B, D) - user_alpha )\n",
    "\n",
    "# final alpha value\n",
    "alpha_deg = calc_alpha(N-1, B, D) # (deg)\n",
    "alpha_rad = radians(alpha_deg)    # (deg --> rad)\n",
    "\n",
    "angular_offset = ( (B*360)/(pi*D*cos(alpha_rad)) )*offset_fudge_factor # 360 deg + small value rotation of mandrel (deg/s)\n",
    "\n",
    "mandrel_W = (L*tan(alpha_rad)*360)/(pi*D) # angular velocity of mandrel (deg/s)\n",
    "head_W = (90-alpha_deg)/(360/mandrel_W)*1.5 # angular velocity of head (deg/s)\n",
    "\n",
    "forward_time = travel_distance/L # time for 1 forward iteration? (s)\n",
    "total_angle_change = mandrel_W*forward_time # tetha change between 1 forward pass \n",
    "head_F = -(90-(alpha_deg+15)) # when head is perpendicular to fiber during forwards winding (deg)\n",
    "head_B = 90-(alpha_deg+15) # when head is perpendicular to fiber during backwards winding (deg)\n",
    "\n",
    "print('Verify Helical-Winding Calculations')\n",
    "print(f'1.) number of iterations: {N}')\n",
    "print(f'2.) final alpha: {alpha_deg} deg')\n",
    "print(f'3.) angular offset: {angular_offset} deg')\n",
    "\n",
    "##################################################\n",
    "# HOOP-WINDING CALCULATIONS\n",
    "##################################################\n",
    "\n",
    "time = hoop_fiber_bandwidth/linear_velocity # (s)\n",
    "angular_velocity = 360/time                 # (deg/s?)"
   ]
  },
  {
   "cell_type": "markdown",
   "metadata": {},
   "source": [
    "## **Section 2 - Function Initializations**"
   ]
  },
  {
   "cell_type": "markdown",
   "metadata": {},
   "source": [
    "Step 2.1 - Initialize Helical-Winding Sub Functions"
   ]
  },
  {
   "cell_type": "code",
   "execution_count": null,
   "metadata": {},
   "outputs": [],
   "source": [
    "def mandrel_moving():\n",
    "    while (mandrel.getIsMoving()): \n",
    "        sleep(0.5)\n",
    "\n",
    "def helical_path_forwards():\n",
    "    head.setTargetPosition(head_F)\n",
    "    head.setEngaged(True)\n",
    "\n",
    "    carriage.setTargetPosition(travel_distance)\n",
    "    mandrel.setTargetPosition( mandrel.getTargetPosition()-total_angle_change )\n",
    "\n",
    "    head.setEngaged(True)\n",
    "    mandrel.setEngaged(True)\n",
    "    carriage.setEngaged(True)\n",
    "\n",
    "def taper():\n",
    "    head.setVelocityLimit(head_W)\n",
    "    head.setTargetPosition(0)\n",
    "    mandrel.setTargetPosition( mandrel.getTargetPosition()-360 )\n",
    "\n",
    "    mandrel.setEngaged(True)\n",
    "    head.setEngaged(True)\n",
    "\n",
    "def move_head_to_helical_angle_b():\n",
    "    head.setVelocityLimit( abs(head_B)/(head_to_90_distance/L) )\n",
    "    head.setTargetPosition(head_B)\n",
    "       \n",
    "    carriage.setTargetPosition(0)\n",
    "    mandrel.setTargetPosition( mandrel.getTargetPosition()-total_angle_change )\n",
    "\n",
    "    head.setEngaged(True)\n",
    "    mandrel.setEngaged(True)\n",
    "    carriage.setEngaged(True)\n",
    "\n",
    "def turn_head_while_tapering():\n",
    "    head.setVelocityLimit(head_W)\n",
    "    head.setTargetPosition(0)\n",
    "    mandrel.setTargetPosition( mandrel.getTargetPosition()-360-angular_offset )\n",
    "\n",
    "    mandrel.setEngaged(True)\n",
    "    head.setEngaged(True)\n",
    "\n",
    "def move_head_to_helical_angle_f():\n",
    "    head.setVelocityLimit( abs(head_B)/(head_to_90_distance/L) )\n",
    "    head.setTargetPosition(head_F)\n",
    "\n",
    "# define forward and backward sub-function run order(s) \n",
    "forward_sequence  = [\n",
    "                    helical_path_forwards,\n",
    "                    mandrel_moving,\n",
    "                    taper,\n",
    "                    mandrel_moving,\n",
    "                    move_head_to_helical_angle_b,\n",
    "                    mandrel_moving,\n",
    "                    turn_head_while_tapering,\n",
    "                    mandrel_moving,\n",
    "                    move_head_to_helical_angle_f\n",
    "                    ]\n",
    "backward_sequence = [\n",
    "                    move_head_to_helical_angle_b,\n",
    "                    mandrel_moving,\n",
    "                    turn_head_while_tapering,\n",
    "                    mandrel_moving,\n",
    "                    move_head_to_helical_angle_f,\n",
    "                    helical_path_forwards,\n",
    "                    mandrel_moving,\n",
    "                    taper,\n",
    "                    mandrel_moving\n",
    "                    ]"
   ]
  },
  {
   "cell_type": "markdown",
   "metadata": {},
   "source": [
    "Step 2.2 - Initialize Helical-Winding Main Function "
   ]
  },
  {
   "cell_type": "code",
   "execution_count": null,
   "metadata": {},
   "outputs": [],
   "source": [
    "#######################################################################################\n",
    "# 1. NAME: \n",
    "#    - start_helical_winding\n",
    "# 2. DESCRIPTION:\n",
    "#    - content here\n",
    "# 3. INPUTS\n",
    "#    - forwards (boolean)\n",
    "#      * True  = forwards helical-winding direction  (position: 0 --> travel_distance)\n",
    "#      * False = backwards helical-winding direction (position: travel_distance --> 0)\n",
    "# 4. OUTPUTS: \n",
    "#    - integer\n",
    "#      * error   = -1\n",
    "#      * success =  0\n",
    "#######################################################################################\n",
    "\n",
    "def start_helical_winding(forwards):\n",
    "    # set variables based on hoop-winding direction\n",
    "    # if neither True or False, exit the function\n",
    "    if (forwards == True):\n",
    "        run_sequence = forward_sequence\n",
    "    elif (forwards == False):\n",
    "        run_sequence = backward_sequence\n",
    "    else:\n",
    "        print('INVALID USER PARAMETERS')\n",
    "        return -1\n",
    "\n",
    "    # notify user helical-winding has started\n",
    "    if (forwards == True):\n",
    "        print('FORWARDS HELICAL-WINDING IN PROGRESS...')\n",
    "    elif (forwards == False):\n",
    "        print('BACKWARDS HELICAL-WINDING IN PROGRESS...')\n",
    "\n",
    "    ##################################################\n",
    "    # START OF HELICAL-WINIDING LOGIC\n",
    "    ##################################################\n",
    "\n",
    "    carriage.setVelocityLimit(L)\n",
    "    mandrel.setVelocityLimit(mandrel_W)\n",
    "\n",
    "    # iterate through run_sequence N times to cover the entire mandrel\n",
    "    for i in range(N):\n",
    "        # for each iteration, run each function in run_sequence in order\n",
    "        for j in range(len(run_sequence)):\n",
    "            run_sequence[i]()\n",
    "    \n",
    "    ##################################################\n",
    "    # END OF HELICAL-WINIDING LOGIC\n",
    "    ##################################################\n",
    "\n",
    "    # notify user hoop-winding has finished\n",
    "    # fix timing\n",
    "    if (forwards == True):\n",
    "        print('FORWARDS HELICAL-WINDING FINISHED')\n",
    "    elif (forwards == False):\n",
    "        print('BACKWARDS HELICAL-WINDING FINISHED')\n",
    "\n",
    "    # exit function (success)\n",
    "    return 0"
   ]
  },
  {
   "cell_type": "markdown",
   "metadata": {},
   "source": [
    "Step 2.3 - Initialize Hoop-Winding Main Function "
   ]
  },
  {
   "cell_type": "code",
   "execution_count": null,
   "metadata": {},
   "outputs": [],
   "source": [
    "####################################################################################\n",
    "# 1. NAME: \n",
    "#    - start_hoop_winding\n",
    "# 2. DESCRIPTION:\n",
    "#    - content here\n",
    "# 3. INPUTS\n",
    "#    - forwards (boolean)\n",
    "#      * True  = forwards hoop-winding direction  (position: 0 --> travel_distance)\n",
    "#      * False = backwards hoop-winding direction (position: travel_distance --> 0)\n",
    "# 4. OUTPUTS: \n",
    "#    - integer\n",
    "#      * error   = -1\n",
    "#      * success =  0\n",
    "####################################################################################\n",
    "\n",
    "def start_hoop_winding(forwards):\n",
    "    # set variables based on hoop-winding direction\n",
    "    # if neither True or False, exit the function\n",
    "    if (forwards == True):\n",
    "        carriage_target_position = travel_distance\n",
    "    elif (forwards == False):\n",
    "        carriage_target_position = 0\n",
    "    else:\n",
    "        print('INVALID USER PARAMETERS')\n",
    "        return -1\n",
    "\n",
    "    # notify user hoop-winding has started\n",
    "    if (forwards == True):\n",
    "        print('FORWARDS HOOP-WINDING IN PROGRESS...')\n",
    "    elif (forwards == False):\n",
    "        print('BACKWARDS HOOP-WINDING IN PRORESS...')\n",
    "\n",
    "    ##################################################\n",
    "    # START OF HOOP-WINIDING LOGIC\n",
    "    ##################################################\n",
    "\n",
    "    carriage.setVelocityLimit(linear_velocity)\n",
    "    mandrel.setVelocityLimit(angular_velocity)\n",
    "\n",
    "    # target position == end position \n",
    "    head.setTargetPosition(0)\n",
    "    carriage.setTargetPosition(carriage_target_position)\n",
    "    mandrel.setTargetPosition( mandrel.getTargetPosition()-(travel_distance*(360/hoop_fiber_bandwidth)) )\n",
    "\n",
    "    # start motor movement\n",
    "    head.setEngaged(True)\n",
    "    mandrel.setEngaged(True)\n",
    "    carriage.setEngaged(True)\n",
    "    \n",
    "    ##################################################\n",
    "    # END OF HOOP-WINIDING LOGIC\n",
    "    ##################################################\n",
    "\n",
    "    # notify user hoop-winding has finished\n",
    "    # fix timing\n",
    "    if (forwards == True):\n",
    "        print('FORWARDS HOOP-WINDING FINISHED')\n",
    "    elif (forwards == False):\n",
    "        print('BACKWARDS HOOP-WINDING FINISHED')\n",
    "\n",
    "    # exit function (success)\n",
    "    return 0"
   ]
  },
  {
   "cell_type": "markdown",
   "metadata": {},
   "source": [
    "## **Section 3 - X-Winder Control Panel**"
   ]
  },
  {
   "cell_type": "markdown",
   "metadata": {},
   "source": [
    "1.) Run Helical-Winding Forwards "
   ]
  },
  {
   "cell_type": "code",
   "execution_count": null,
   "metadata": {},
   "outputs": [],
   "source": [
    "start_helical_winding(forwards=True)"
   ]
  },
  {
   "cell_type": "markdown",
   "metadata": {},
   "source": [
    "2.) Run Helical-Winding Backwards"
   ]
  },
  {
   "cell_type": "code",
   "execution_count": null,
   "metadata": {},
   "outputs": [],
   "source": [
    "start_helical_winding(forwards=False)"
   ]
  },
  {
   "cell_type": "markdown",
   "metadata": {},
   "source": [
    "3.) Run Hoop-Winding Forwards"
   ]
  },
  {
   "cell_type": "code",
   "execution_count": null,
   "metadata": {},
   "outputs": [],
   "source": [
    "start_hoop_winding(forwards=True)"
   ]
  },
  {
   "cell_type": "markdown",
   "metadata": {},
   "source": [
    "4.) Run Hoop-Winding Backwards"
   ]
  },
  {
   "cell_type": "code",
   "execution_count": null,
   "metadata": {},
   "outputs": [],
   "source": [
    "start_hoop_winding(forwards=False)"
   ]
  },
  {
   "cell_type": "markdown",
   "metadata": {},
   "source": [
    "5.) Disconnect Motors (For Manual Adjustment)"
   ]
  },
  {
   "cell_type": "code",
   "execution_count": null,
   "metadata": {},
   "outputs": [],
   "source": [
    "mandrel.setEngaged(0)\n",
    "carriage.setEngaged(0)\n",
    "head.setEngaged(0)\n",
    "\n",
    "# potentially needed?\n",
    "# head.close()\n",
    "# mandrel.close()\n",
    "# carriage.close()"
   ]
  }
 ],
 "metadata": {
  "kernelspec": {
   "display_name": "X-Winder_2.0",
   "language": "python",
   "name": "python3"
  },
  "language_info": {
   "codemirror_mode": {
    "name": "ipython",
    "version": 3
   },
   "file_extension": ".py",
   "mimetype": "text/x-python",
   "name": "python",
   "nbconvert_exporter": "python",
   "pygments_lexer": "ipython3",
   "version": "3.9.11"
  }
 },
 "nbformat": 4,
 "nbformat_minor": 2
}
